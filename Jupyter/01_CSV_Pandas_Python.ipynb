{
 "metadata": {
  "language_info": {
   "codemirror_mode": {
    "name": "ipython",
    "version": 3
   },
   "file_extension": ".py",
   "mimetype": "text/x-python",
   "name": "python",
   "nbconvert_exporter": "python",
   "pygments_lexer": "ipython3",
   "version": "3.9.3-final"
  },
  "orig_nbformat": 2,
  "kernelspec": {
   "name": "python393jvsc74a57bd0efb2f96e4db81c9ced524d27eb773cf5d560e4608ba9201b963ba21fb2d9230e",
   "display_name": "Python 3.9.3 64-bit"
  },
  "metadata": {
   "interpreter": {
    "hash": "efb2f96e4db81c9ced524d27eb773cf5d560e4608ba9201b963ba21fb2d9230e"
   }
  }
 },
 "nbformat": 4,
 "nbformat_minor": 2,
 "cells": [
  {
   "source": [
    "# Leer archivo CSV desde Notebook python"
   ],
   "cell_type": "markdown",
   "metadata": {}
  },
  {
   "source": [
    "### Cargamos las librerias necesarias\n",
    "* csv    ==> trabajar con archivos csv\n",
    "* pandas ==> Para leer datos tabulares"
   ],
   "cell_type": "markdown",
   "metadata": {}
  },
  {
   "cell_type": "code",
   "execution_count": 21,
   "metadata": {},
   "outputs": [
    {
     "output_type": "stream",
     "name": "stdout",
     "text": [
      "Javier Teran - javi@javi.es - Organizador\nalisalasir15 - alir15@gmail.com - Asistente\nalisalasir16 - alir16@gmail.com - Asistente\nalisalasir17 - alir17@gmail.com - Asistente\nalisalasir18 - alir18@gmail.com - Asistente\nalisalasir19 - alir19@gmail.com - Asistente\nalisalasir20 - alir20@gmail.com - Asistente\nalisalasir21 - alir21@gmail.com - Asistente\nyolasir21 - yo21@gmail.com - Organizador\nangela - angela@gmail.com - Coordinadora\n"
     ]
    }
   ],
   "source": [
    "import csv\n",
    "with open ('./01LeerCSV.csv') as File:\n",
    "    misDatosReunion = csv.DictReader (File, delimiter=';')\n",
    "    for asistente in misDatosReunion:\n",
    "        print(asistente['Nombre'] + ' - ' + asistente['Correo'] + ' - ' + asistente['Rol'])"
   ]
  },
  {
   "cell_type": "code",
   "execution_count": 3,
   "metadata": {},
   "outputs": [
    {
     "output_type": "error",
     "ename": "SyntaxError",
     "evalue": "invalid syntax (<ipython-input-3-f8970a8a73f9>, line 3)",
     "traceback": [
      "\u001b[1;36m  File \u001b[1;32m\"<ipython-input-3-f8970a8a73f9>\"\u001b[1;36m, line \u001b[1;32m3\u001b[0m\n\u001b[1;33m    pip install pandas\u001b[0m\n\u001b[1;37m        ^\u001b[0m\n\u001b[1;31mSyntaxError\u001b[0m\u001b[1;31m:\u001b[0m invalid syntax\n"
     ]
    }
   ],
   "source": [
    "#conda install pandas\n",
    "# o\n",
    "pip install pandas"
   ]
  },
  {
   "source": [
    "## Importar librerias pandas"
   ],
   "cell_type": "markdown",
   "metadata": {}
  },
  {
   "cell_type": "code",
   "execution_count": 3,
   "metadata": {},
   "outputs": [],
   "source": [
    "import pandas as pd"
   ]
  },
  {
   "source": [
    "## Leer archivo CSV"
   ],
   "cell_type": "markdown",
   "metadata": {}
  },
  {
   "cell_type": "code",
   "execution_count": 4,
   "metadata": {},
   "outputs": [],
   "source": [
    "df1 = pd.read_csv(\"./01LeerCSV.csv\",sep=\";\")"
   ]
  },
  {
   "cell_type": "code",
   "execution_count": 5,
   "metadata": {},
   "outputs": [
    {
     "output_type": "execute_result",
     "data": {
      "text/plain": [
       "pandas.core.frame.DataFrame"
      ]
     },
     "metadata": {},
     "execution_count": 5
    }
   ],
   "source": [
    "type(df1)"
   ]
  },
  {
   "cell_type": "code",
   "execution_count": null,
   "metadata": {},
   "outputs": [],
   "source": [
    "Ver contenido de df1"
   ]
  },
  {
   "cell_type": "code",
   "execution_count": 9,
   "metadata": {},
   "outputs": [
    {
     "output_type": "execute_result",
     "data": {
      "text/plain": [
       "         Nombre            Inicio               Fin    Duracion  \\\n",
       "0  Javier Teran  19/03/2021 16:48  19/03/2021 19:23  2 h 34 min   \n",
       "1  alisalasir15  19/03/2021 16:48  19/03/2021 19:23          2h   \n",
       "2  alisalasir16  19/03/2021 17:41  19/03/2021 19:23          2h   \n",
       "3  alisalasir17  19/03/2021 17:43  19/03/2021 19:23          2h   \n",
       "4  alisalasir18  19/03/2021 17:45  19/03/2021 19:23          2h   \n",
       "5  alisalasir19  19/03/2021 17:28  19/03/2021 19:23          2h   \n",
       "6  alisalasir20  19/03/2021 17:18  19/03/2021 19:23          2h   \n",
       "7  alisalasir21  19/03/2021 16:48  19/03/2021 19:23          2h   \n",
       "8     yolasir21  19/03/2021 16:48  19/03/2021 19:23          2h   \n",
       "\n",
       "             Correo          Rol  \n",
       "0      javi@javi.es  Organizador  \n",
       "1  alir15@gmail.com    Asistente  \n",
       "2  alir16@gmail.com    Asistente  \n",
       "3  alir17@gmail.com    Asistente  \n",
       "4  alir18@gmail.com    Asistente  \n",
       "5  alir19@gmail.com    Asistente  \n",
       "6  alir20@gmail.com    Asistente  \n",
       "7  alir21@gmail.com    Asistente  \n",
       "8    yo21@gmail.com  Organizador  "
      ],
      "text/html": "<div>\n<style scoped>\n    .dataframe tbody tr th:only-of-type {\n        vertical-align: middle;\n    }\n\n    .dataframe tbody tr th {\n        vertical-align: top;\n    }\n\n    .dataframe thead th {\n        text-align: right;\n    }\n</style>\n<table border=\"1\" class=\"dataframe\">\n  <thead>\n    <tr style=\"text-align: right;\">\n      <th></th>\n      <th>Nombre</th>\n      <th>Inicio</th>\n      <th>Fin</th>\n      <th>Duracion</th>\n      <th>Correo</th>\n      <th>Rol</th>\n    </tr>\n  </thead>\n  <tbody>\n    <tr>\n      <th>0</th>\n      <td>Javier Teran</td>\n      <td>19/03/2021 16:48</td>\n      <td>19/03/2021 19:23</td>\n      <td>2 h 34 min</td>\n      <td>javi@javi.es</td>\n      <td>Organizador</td>\n    </tr>\n    <tr>\n      <th>1</th>\n      <td>alisalasir15</td>\n      <td>19/03/2021 16:48</td>\n      <td>19/03/2021 19:23</td>\n      <td>2h</td>\n      <td>alir15@gmail.com</td>\n      <td>Asistente</td>\n    </tr>\n    <tr>\n      <th>2</th>\n      <td>alisalasir16</td>\n      <td>19/03/2021 17:41</td>\n      <td>19/03/2021 19:23</td>\n      <td>2h</td>\n      <td>alir16@gmail.com</td>\n      <td>Asistente</td>\n    </tr>\n    <tr>\n      <th>3</th>\n      <td>alisalasir17</td>\n      <td>19/03/2021 17:43</td>\n      <td>19/03/2021 19:23</td>\n      <td>2h</td>\n      <td>alir17@gmail.com</td>\n      <td>Asistente</td>\n    </tr>\n    <tr>\n      <th>4</th>\n      <td>alisalasir18</td>\n      <td>19/03/2021 17:45</td>\n      <td>19/03/2021 19:23</td>\n      <td>2h</td>\n      <td>alir18@gmail.com</td>\n      <td>Asistente</td>\n    </tr>\n    <tr>\n      <th>5</th>\n      <td>alisalasir19</td>\n      <td>19/03/2021 17:28</td>\n      <td>19/03/2021 19:23</td>\n      <td>2h</td>\n      <td>alir19@gmail.com</td>\n      <td>Asistente</td>\n    </tr>\n    <tr>\n      <th>6</th>\n      <td>alisalasir20</td>\n      <td>19/03/2021 17:18</td>\n      <td>19/03/2021 19:23</td>\n      <td>2h</td>\n      <td>alir20@gmail.com</td>\n      <td>Asistente</td>\n    </tr>\n    <tr>\n      <th>7</th>\n      <td>alisalasir21</td>\n      <td>19/03/2021 16:48</td>\n      <td>19/03/2021 19:23</td>\n      <td>2h</td>\n      <td>alir21@gmail.com</td>\n      <td>Asistente</td>\n    </tr>\n    <tr>\n      <th>8</th>\n      <td>yolasir21</td>\n      <td>19/03/2021 16:48</td>\n      <td>19/03/2021 19:23</td>\n      <td>2h</td>\n      <td>yo21@gmail.com</td>\n      <td>Organizador</td>\n    </tr>\n  </tbody>\n</table>\n</div>"
     },
     "metadata": {},
     "execution_count": 9
    }
   ],
   "source": [
    "df1"
   ]
  },
  {
   "source": [
    "Mostrar registros 5 y 6"
   ],
   "cell_type": "markdown",
   "metadata": {}
  },
  {
   "cell_type": "code",
   "execution_count": 13,
   "metadata": {},
   "outputs": [
    {
     "output_type": "execute_result",
     "data": {
      "text/plain": [
       "         Nombre            Inicio               Fin Duracion  \\\n",
       "5  alisalasir19  19/03/2021 17:28  19/03/2021 19:23       2h   \n",
       "6  alisalasir20  19/03/2021 17:18  19/03/2021 19:23       2h   \n",
       "7  alisalasir21  19/03/2021 16:48  19/03/2021 19:23       2h   \n",
       "8     yolasir21  19/03/2021 16:48  19/03/2021 19:23       2h   \n",
       "\n",
       "             Correo          Rol  \n",
       "5  alir19@gmail.com    Asistente  \n",
       "6  alir20@gmail.com    Asistente  \n",
       "7  alir21@gmail.com    Asistente  \n",
       "8    yo21@gmail.com  Organizador  "
      ],
      "text/html": "<div>\n<style scoped>\n    .dataframe tbody tr th:only-of-type {\n        vertical-align: middle;\n    }\n\n    .dataframe tbody tr th {\n        vertical-align: top;\n    }\n\n    .dataframe thead th {\n        text-align: right;\n    }\n</style>\n<table border=\"1\" class=\"dataframe\">\n  <thead>\n    <tr style=\"text-align: right;\">\n      <th></th>\n      <th>Nombre</th>\n      <th>Inicio</th>\n      <th>Fin</th>\n      <th>Duracion</th>\n      <th>Correo</th>\n      <th>Rol</th>\n    </tr>\n  </thead>\n  <tbody>\n    <tr>\n      <th>5</th>\n      <td>alisalasir19</td>\n      <td>19/03/2021 17:28</td>\n      <td>19/03/2021 19:23</td>\n      <td>2h</td>\n      <td>alir19@gmail.com</td>\n      <td>Asistente</td>\n    </tr>\n    <tr>\n      <th>6</th>\n      <td>alisalasir20</td>\n      <td>19/03/2021 17:18</td>\n      <td>19/03/2021 19:23</td>\n      <td>2h</td>\n      <td>alir20@gmail.com</td>\n      <td>Asistente</td>\n    </tr>\n    <tr>\n      <th>7</th>\n      <td>alisalasir21</td>\n      <td>19/03/2021 16:48</td>\n      <td>19/03/2021 19:23</td>\n      <td>2h</td>\n      <td>alir21@gmail.com</td>\n      <td>Asistente</td>\n    </tr>\n    <tr>\n      <th>8</th>\n      <td>yolasir21</td>\n      <td>19/03/2021 16:48</td>\n      <td>19/03/2021 19:23</td>\n      <td>2h</td>\n      <td>yo21@gmail.com</td>\n      <td>Organizador</td>\n    </tr>\n  </tbody>\n</table>\n</div>"
     },
     "metadata": {},
     "execution_count": 13
    }
   ],
   "source": [
    "df1[5:9]"
   ]
  },
  {
   "source": [
    "Mostrar columnas Nombre, Correo y Rol"
   ],
   "cell_type": "markdown",
   "metadata": {}
  },
  {
   "cell_type": "code",
   "execution_count": 20,
   "metadata": {},
   "outputs": [
    {
     "output_type": "execute_result",
     "data": {
      "text/plain": [
       "         Nombre            Correo           Rol\n",
       "0  Javier Teran      javi@javi.es   Organizador\n",
       "1  alisalasir15  alir15@gmail.com     Asistente\n",
       "2  alisalasir16  alir16@gmail.com     Asistente\n",
       "3  alisalasir17  alir17@gmail.com     Asistente\n",
       "4  alisalasir18  alir18@gmail.com     Asistente\n",
       "5  alisalasir19  alir19@gmail.com     Asistente\n",
       "6  alisalasir20  alir20@gmail.com     Asistente\n",
       "7  alisalasir21  alir21@gmail.com     Asistente\n",
       "8     yolasir21    yo21@gmail.com   Organizador\n",
       "9        angela  angela@gmail.com  Coordinadora"
      ],
      "text/html": "<div>\n<style scoped>\n    .dataframe tbody tr th:only-of-type {\n        vertical-align: middle;\n    }\n\n    .dataframe tbody tr th {\n        vertical-align: top;\n    }\n\n    .dataframe thead th {\n        text-align: right;\n    }\n</style>\n<table border=\"1\" class=\"dataframe\">\n  <thead>\n    <tr style=\"text-align: right;\">\n      <th></th>\n      <th>Nombre</th>\n      <th>Correo</th>\n      <th>Rol</th>\n    </tr>\n  </thead>\n  <tbody>\n    <tr>\n      <th>0</th>\n      <td>Javier Teran</td>\n      <td>javi@javi.es</td>\n      <td>Organizador</td>\n    </tr>\n    <tr>\n      <th>1</th>\n      <td>alisalasir15</td>\n      <td>alir15@gmail.com</td>\n      <td>Asistente</td>\n    </tr>\n    <tr>\n      <th>2</th>\n      <td>alisalasir16</td>\n      <td>alir16@gmail.com</td>\n      <td>Asistente</td>\n    </tr>\n    <tr>\n      <th>3</th>\n      <td>alisalasir17</td>\n      <td>alir17@gmail.com</td>\n      <td>Asistente</td>\n    </tr>\n    <tr>\n      <th>4</th>\n      <td>alisalasir18</td>\n      <td>alir18@gmail.com</td>\n      <td>Asistente</td>\n    </tr>\n    <tr>\n      <th>5</th>\n      <td>alisalasir19</td>\n      <td>alir19@gmail.com</td>\n      <td>Asistente</td>\n    </tr>\n    <tr>\n      <th>6</th>\n      <td>alisalasir20</td>\n      <td>alir20@gmail.com</td>\n      <td>Asistente</td>\n    </tr>\n    <tr>\n      <th>7</th>\n      <td>alisalasir21</td>\n      <td>alir21@gmail.com</td>\n      <td>Asistente</td>\n    </tr>\n    <tr>\n      <th>8</th>\n      <td>yolasir21</td>\n      <td>yo21@gmail.com</td>\n      <td>Organizador</td>\n    </tr>\n    <tr>\n      <th>9</th>\n      <td>angela</td>\n      <td>angela@gmail.com</td>\n      <td>Coordinadora</td>\n    </tr>\n  </tbody>\n</table>\n</div>"
     },
     "metadata": {},
     "execution_count": 20
    }
   ],
   "source": [
    "df1.loc[:, ['Nombre','Correo','Rol']]"
   ]
  },
  {
   "source": [
    "Muestra las cabeceras del fichero"
   ],
   "cell_type": "markdown",
   "metadata": {}
  },
  {
   "cell_type": "code",
   "execution_count": 22,
   "metadata": {},
   "outputs": [
    {
     "output_type": "execute_result",
     "data": {
      "text/plain": [
       "Index(['Nombre', 'Inicio', 'Fin', 'Duracion', 'Correo', 'Rol'], dtype='object')"
      ]
     },
     "metadata": {},
     "execution_count": 22
    }
   ],
   "source": [
    "df1.columns"
   ]
  },
  {
   "source": [
    "Roles unicos"
   ],
   "cell_type": "markdown",
   "metadata": {}
  },
  {
   "cell_type": "code",
   "execution_count": 18,
   "metadata": {},
   "outputs": [
    {
     "output_type": "execute_result",
     "data": {
      "text/plain": [
       "array(['Organizador', 'Asistente', 'Coordinadora'], dtype=object)"
      ]
     },
     "metadata": {},
     "execution_count": 18
    }
   ],
   "source": [
    "pd.unique(df1['Rol'])"
   ]
  },
  {
   "cell_type": "code",
   "execution_count": 19,
   "metadata": {},
   "outputs": [
    {
     "output_type": "execute_result",
     "data": {
      "text/plain": [
       "Rol\n",
       "Asistente       7\n",
       "Coordinadora    1\n",
       "Organizador     2\n",
       "Name: Rol, dtype: int64"
      ]
     },
     "metadata": {},
     "execution_count": 19
    }
   ],
   "source": [
    "df1.groupby(\"Rol\")['Rol'].count()"
   ]
  },
  {
   "cell_type": "code",
   "execution_count": null,
   "metadata": {},
   "outputs": [],
   "source": []
  }
 ]
}