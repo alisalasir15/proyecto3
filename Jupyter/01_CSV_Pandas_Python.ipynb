{
 "metadata": {
  "language_info": {
   "codemirror_mode": {
    "name": "ipython",
    "version": 3
   },
   "file_extension": ".py",
   "mimetype": "text/x-python",
   "name": "python",
   "nbconvert_exporter": "python",
   "pygments_lexer": "ipython3",
   "version": "3.9.2"
  },
  "orig_nbformat": 2,
  "kernelspec": {
   "name": "python392jvsc74a57bd0ac59ebe37160ed0dfa835113d9b8498d9f09ceb179beaac4002f036b9467c963",
   "display_name": "Python 3.9.2 64-bit"
  },
  "metadata": {
   "interpreter": {
    "hash": "ac59ebe37160ed0dfa835113d9b8498d9f09ceb179beaac4002f036b9467c963"
   }
  }
 },
 "nbformat": 4,
 "nbformat_minor": 2,
 "cells": [
  {
   "source": [
    "# Leer archivo CSV desde Notebook Jupyter"
   ],
   "cell_type": "markdown",
   "metadata": {}
  },
  {
   "source": [
    "## Utilizando import csv"
   ],
   "cell_type": "markdown",
   "metadata": {}
  },
  {
   "cell_type": "code",
   "execution_count": null,
   "metadata": {},
   "outputs": [],
   "source": [
    "import csv\n",
    "with open ('./01LeerCSV.csv') as File:\n",
    "    misDatosReunion = csv.DictReader (File, delimiter=';')\n",
    "    for asistente in misDatosReunion:\n",
    "        print(asistente['Nombre'] + ' - ' + asistente['Correo'] + ' - ' + asistente['Rol'])"
   ]
  },
  {
   "source": [
    "## Instalamos y cargamos las librerias necesarias\n",
    "* pandas ==> Para leer datos tabulares"
   ],
   "cell_type": "markdown",
   "metadata": {}
  },
  {
   "cell_type": "code",
   "execution_count": 2,
   "metadata": {},
   "outputs": [
    {
     "output_type": "stream",
     "name": "stdout",
     "text": [
      "Defaulting to user installation because normal site-packages is not writeable\nRequirement already satisfied: pandas in d:\\users\\javier.teran\\appdata\\roaming\\python\\python39\\site-packages (1.2.3)\nRequirement already satisfied: python-dateutil>=2.7.3 in d:\\users\\javier.teran\\appdata\\roaming\\python\\python39\\site-packages (from pandas) (2.8.1)\nRequirement already satisfied: pytz>=2017.3 in d:\\users\\javier.teran\\appdata\\roaming\\python\\python39\\site-packages (from pandas) (2021.1)\nRequirement already satisfied: numpy>=1.16.5 in d:\\users\\javier.teran\\appdata\\roaming\\python\\python39\\site-packages (from pandas) (1.20.2)\nRequirement already satisfied: six>=1.5 in d:\\users\\javier.teran\\appdata\\roaming\\python\\python39\\site-packages (from python-dateutil>=2.7.3->pandas) (1.15.0)\n"
     ]
    }
   ],
   "source": [
    "! pip install pandas"
   ]
  },
  {
   "cell_type": "code",
   "execution_count": 3,
   "metadata": {},
   "outputs": [],
   "source": [
    "import pandas as pd"
   ]
  },
  {
   "source": [
    "## Leer archivo CSV"
   ],
   "cell_type": "markdown",
   "metadata": {}
  },
  {
   "cell_type": "code",
   "execution_count": 4,
   "metadata": {},
   "outputs": [],
   "source": [
    "df1 = pd.read_csv('./01LeerCSV.csv',sep=';')"
   ]
  },
  {
   "cell_type": "code",
   "execution_count": 5,
   "metadata": {},
   "outputs": [
    {
     "output_type": "execute_result",
     "data": {
      "text/plain": [
       "         Nombre            Inicio               Fin    Duracion  \\\n",
       "0  Javier Teran  19/03/2021 16:48  19/03/2021 19:23  2 h 34 min   \n",
       "1  alisalasir15  19/03/2021 16:48  19/03/2021 19:23          2h   \n",
       "2  alisalasir16  19/03/2021 17:41  19/03/2021 19:23          2h   \n",
       "3  alisalasir17  19/03/2021 17:43  19/03/2021 19:23          2h   \n",
       "4  alisalasir18  19/03/2021 17:45  19/03/2021 19:23          2h   \n",
       "5  alisalasir19  19/03/2021 17:28  19/03/2021 19:23          2h   \n",
       "6  alisalasir20  19/03/2021 17:18  19/03/2021 19:23          2h   \n",
       "7  alisalasir21  19/03/2021 16:48  19/03/2021 19:23          2h   \n",
       "8     yolasir21  19/03/2021 16:48  19/03/2021 19:23          2h   \n",
       "9        angela  19/03/2021 16:48  19/03/2021 19:23          2h   \n",
       "\n",
       "             Correo           Rol  \n",
       "0      javi@javi.es   Organizador  \n",
       "1  alir15@gmail.com     Asistente  \n",
       "2  alir16@gmail.com     Asistente  \n",
       "3  alir17@gmail.com     Asistente  \n",
       "4  alir18@gmail.com     Asistente  \n",
       "5  alir19@gmail.com     Asistente  \n",
       "6  alir20@gmail.com     Asistente  \n",
       "7  alir21@gmail.com     Asistente  \n",
       "8    yo21@gmail.com   Organizador  \n",
       "9  angela@gmail.com  Coordinadora  "
      ],
      "text/html": "<div>\n<style scoped>\n    .dataframe tbody tr th:only-of-type {\n        vertical-align: middle;\n    }\n\n    .dataframe tbody tr th {\n        vertical-align: top;\n    }\n\n    .dataframe thead th {\n        text-align: right;\n    }\n</style>\n<table border=\"1\" class=\"dataframe\">\n  <thead>\n    <tr style=\"text-align: right;\">\n      <th></th>\n      <th>Nombre</th>\n      <th>Inicio</th>\n      <th>Fin</th>\n      <th>Duracion</th>\n      <th>Correo</th>\n      <th>Rol</th>\n    </tr>\n  </thead>\n  <tbody>\n    <tr>\n      <th>0</th>\n      <td>Javier Teran</td>\n      <td>19/03/2021 16:48</td>\n      <td>19/03/2021 19:23</td>\n      <td>2 h 34 min</td>\n      <td>javi@javi.es</td>\n      <td>Organizador</td>\n    </tr>\n    <tr>\n      <th>1</th>\n      <td>alisalasir15</td>\n      <td>19/03/2021 16:48</td>\n      <td>19/03/2021 19:23</td>\n      <td>2h</td>\n      <td>alir15@gmail.com</td>\n      <td>Asistente</td>\n    </tr>\n    <tr>\n      <th>2</th>\n      <td>alisalasir16</td>\n      <td>19/03/2021 17:41</td>\n      <td>19/03/2021 19:23</td>\n      <td>2h</td>\n      <td>alir16@gmail.com</td>\n      <td>Asistente</td>\n    </tr>\n    <tr>\n      <th>3</th>\n      <td>alisalasir17</td>\n      <td>19/03/2021 17:43</td>\n      <td>19/03/2021 19:23</td>\n      <td>2h</td>\n      <td>alir17@gmail.com</td>\n      <td>Asistente</td>\n    </tr>\n    <tr>\n      <th>4</th>\n      <td>alisalasir18</td>\n      <td>19/03/2021 17:45</td>\n      <td>19/03/2021 19:23</td>\n      <td>2h</td>\n      <td>alir18@gmail.com</td>\n      <td>Asistente</td>\n    </tr>\n    <tr>\n      <th>5</th>\n      <td>alisalasir19</td>\n      <td>19/03/2021 17:28</td>\n      <td>19/03/2021 19:23</td>\n      <td>2h</td>\n      <td>alir19@gmail.com</td>\n      <td>Asistente</td>\n    </tr>\n    <tr>\n      <th>6</th>\n      <td>alisalasir20</td>\n      <td>19/03/2021 17:18</td>\n      <td>19/03/2021 19:23</td>\n      <td>2h</td>\n      <td>alir20@gmail.com</td>\n      <td>Asistente</td>\n    </tr>\n    <tr>\n      <th>7</th>\n      <td>alisalasir21</td>\n      <td>19/03/2021 16:48</td>\n      <td>19/03/2021 19:23</td>\n      <td>2h</td>\n      <td>alir21@gmail.com</td>\n      <td>Asistente</td>\n    </tr>\n    <tr>\n      <th>8</th>\n      <td>yolasir21</td>\n      <td>19/03/2021 16:48</td>\n      <td>19/03/2021 19:23</td>\n      <td>2h</td>\n      <td>yo21@gmail.com</td>\n      <td>Organizador</td>\n    </tr>\n    <tr>\n      <th>9</th>\n      <td>angela</td>\n      <td>19/03/2021 16:48</td>\n      <td>19/03/2021 19:23</td>\n      <td>2h</td>\n      <td>angela@gmail.com</td>\n      <td>Coordinadora</td>\n    </tr>\n  </tbody>\n</table>\n</div>"
     },
     "metadata": {},
     "execution_count": 5
    }
   ],
   "source": [
    "df1"
   ]
  },
  {
   "source": [
    "## Mostrar registros o filas 5 y 6"
   ],
   "cell_type": "markdown",
   "metadata": {}
  },
  {
   "cell_type": "code",
   "execution_count": null,
   "metadata": {},
   "outputs": [],
   "source": [
    "df1[5:7]"
   ]
  },
  {
   "source": [
    "## Mostrar columnas Nombre, Correo, Rol"
   ],
   "cell_type": "markdown",
   "metadata": {}
  },
  {
   "cell_type": "code",
   "execution_count": null,
   "metadata": {},
   "outputs": [],
   "source": [
    "df1.loc[:,['Nombre','Correo','Rol']]"
   ]
  },
  {
   "source": [
    "## Mostrar cabeceras del fichero"
   ],
   "cell_type": "markdown",
   "metadata": {}
  },
  {
   "cell_type": "code",
   "execution_count": null,
   "metadata": {},
   "outputs": [],
   "source": [
    "df1.columns"
   ]
  },
  {
   "source": [
    "### Roles unicos \n",
    "*Sale en negrita*"
   ],
   "cell_type": "markdown",
   "metadata": {}
  },
  {
   "cell_type": "code",
   "execution_count": null,
   "metadata": {},
   "outputs": [],
   "source": [
    "pd.unique(df1['Rol'])"
   ]
  },
  {
   "source": [
    "### Asistentes que hay en cada rol"
   ],
   "cell_type": "markdown",
   "metadata": {}
  },
  {
   "cell_type": "code",
   "execution_count": null,
   "metadata": {},
   "outputs": [],
   "source": [
    "df1.groupby(\"Rol\")['Rol'].count()"
   ]
  },
  {
   "cell_type": "code",
   "execution_count": null,
   "metadata": {},
   "outputs": [],
   "source": []
  }
 ]
}